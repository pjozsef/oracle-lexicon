{
 "cells": [
  {
   "cell_type": "code",
   "execution_count": null,
   "id": "1ad162f8",
   "metadata": {},
   "outputs": [],
   "source": [
    "# REMEMBER CLEARING OUTPUT BEFORE PUSHING\n",
    "\n",
    "import nltk\n",
    "nltk.download()"
   ]
  },
  {
   "cell_type": "code",
   "execution_count": null,
   "id": "38581bea",
   "metadata": {},
   "outputs": [],
   "source": [
    "import PyPDF2\n",
    "\n",
    "text = ''\n",
    "with open(r\"path/to/pdf\", 'rb') as pdffile:\n",
    "    pdfreader = PyPDF2.PdfFileReader(pdffile)\n",
    "    print(pdfreader.numPages)\n",
    "    # Page range in the PDF (Usually +2) - Recommended to point to Lore sections, not rules\n",
    "    for i in range (425, 490):\n",
    "        pageobj = pdfreader.getPage(i)\n",
    "        text += pageobj.extractText().replace('\\n', ' ')\n",
    "        text += ' '"
   ]
  },
  {
   "cell_type": "code",
   "execution_count": null,
   "id": "c968ba1e",
   "metadata": {},
   "outputs": [],
   "source": [
    "from nltk.corpus import stopwords\n",
    "from nltk.tokenize import word_tokenize, sent_tokenize\n",
    "stop_words = set(stopwords.words('english'))\n",
    "\n",
    "tokenized = sent_tokenize(text)\n",
    "taggeds = []\n",
    "for i in tokenized:\n",
    "     \n",
    "    # Word tokenizers is used to find the words\n",
    "    # and punctuation in a string\n",
    "    wordsList = nltk.word_tokenize(i)\n",
    " \n",
    "    # removing stop words from wordList\n",
    "    wordsList = [w for w in wordsList if not w in stop_words]\n",
    " \n",
    "    #  Using a Tagger. Which is part-of-speech\n",
    "    # tagger or POS-tagger.\n",
    "    taggeds.append(nltk.pos_tag(wordsList))\n",
    " \n",
    "tagged = [element for sublist in taggeds for element in sublist]"
   ]
  },
  {
   "cell_type": "code",
   "execution_count": null,
   "id": "ed1cc6a3",
   "metadata": {},
   "outputs": [],
   "source": [
    "tagged[:20]"
   ]
  },
  {
   "cell_type": "code",
   "execution_count": null,
   "id": "2a639766",
   "metadata": {},
   "outputs": [],
   "source": [
    "action1 = list(set(filter(lambda x: x[1] in ['VB', 'VBP'], tagged)))"
   ]
  },
  {
   "cell_type": "code",
   "execution_count": null,
   "id": "0e7728e2",
   "metadata": {},
   "outputs": [],
   "source": [
    "# If using universal tagsets (doesnt work as well)\n",
    "# action1 = list(set(filter(lambda x: x[1] in ['VERB'], tagged)))"
   ]
  },
  {
   "cell_type": "code",
   "execution_count": null,
   "id": "a6a06dbf",
   "metadata": {},
   "outputs": [],
   "source": [
    "action2 = list(set(filter(lambda x: x[1] in ['NN', 'NNS', 'NNP'], tagged)))"
   ]
  },
  {
   "cell_type": "code",
   "execution_count": null,
   "id": "a891e2a3",
   "metadata": {},
   "outputs": [],
   "source": [
    "# If using universal tagsets (doesnt work as well)\n",
    "# action2 = list(set(filter(lambda x: x[1] in ['NOUN'], tagged)))"
   ]
  },
  {
   "cell_type": "code",
   "execution_count": null,
   "id": "88ae5b1d",
   "metadata": {},
   "outputs": [],
   "source": [
    "desc1 = list(set(filter(lambda x: x[1] in ['RB'], tagged)))"
   ]
  },
  {
   "cell_type": "code",
   "execution_count": null,
   "id": "2dee265e",
   "metadata": {},
   "outputs": [],
   "source": [
    "# If using universal tagsets (doesnt work as well)\n",
    "# desc1 = list(set(filter(lambda x: x[1] in ['ADV'], tagged)))"
   ]
  },
  {
   "cell_type": "code",
   "execution_count": null,
   "id": "5898227d",
   "metadata": {},
   "outputs": [],
   "source": [
    "desc2 = list(set(filter(lambda x: x[1] in ['JJ', 'VBN', 'VBD'], tagged)))"
   ]
  },
  {
   "cell_type": "code",
   "execution_count": null,
   "id": "daadf7d9",
   "metadata": {},
   "outputs": [],
   "source": [
    "# If using universal tagsets (doesnt work as well)\n",
    "# desc2 = list(set(filter(lambda x: x[1] in ['ADJ'], tagged)))"
   ]
  },
  {
   "cell_type": "code",
   "execution_count": null,
   "id": "3af5a6b1",
   "metadata": {},
   "outputs": [],
   "source": [
    "import random"
   ]
  },
  {
   "cell_type": "code",
   "execution_count": null,
   "id": "9abe44fb",
   "metadata": {},
   "outputs": [],
   "source": [
    "print('Action: ' + ' '.join([random.choice(action1)[0], random.choice(action2)[0]]))\n",
    "print('Action: ' + ' '.join([random.choice(action1)[0], random.choice(action2)[0]]))\n",
    "print('Action: ' + ' '.join([random.choice(action1)[0], random.choice(action2)[0]]))\n",
    "print('Action: ' + ' '.join([random.choice(action1)[0], random.choice(action2)[0]]))\n",
    "print('Action: ' + ' '.join([random.choice(action1)[0], random.choice(action2)[0]]))\n",
    "\n",
    "print('\\n')\n",
    "\n",
    "print('Description: ' + ' '.join([random.choice(desc1)[0], random.choice(desc2)[0]]))\n",
    "print('Description: ' + ' '.join([random.choice(desc1)[0], random.choice(desc2)[0]]))\n",
    "print('Description: ' + ' '.join([random.choice(desc1)[0], random.choice(desc2)[0]]))\n",
    "print('Description: ' + ' '.join([random.choice(desc1)[0], random.choice(desc2)[0]]))\n",
    "print('Description: ' + ' '.join([random.choice(desc1)[0], random.choice(desc2)[0]]))\n"
   ]
  },
  {
   "cell_type": "code",
   "execution_count": null,
   "id": "2a312479",
   "metadata": {},
   "outputs": [],
   "source": [
    "test = list(filter(lambda x: x[1] in ['VB', 'VBP'], tagged))\n",
    "test.sort()"
   ]
  },
  {
   "cell_type": "code",
   "execution_count": null,
   "id": "645e6224",
   "metadata": {},
   "outputs": [],
   "source": [
    "test"
   ]
  },
  {
   "cell_type": "code",
   "execution_count": null,
   "id": "3d7652ad",
   "metadata": {},
   "outputs": [],
   "source": []
  }
 ],
 "metadata": {
  "kernelspec": {
   "display_name": "Python 3 (ipykernel)",
   "language": "python",
   "name": "python3"
  },
  "language_info": {
   "codemirror_mode": {
    "name": "ipython",
    "version": 3
   },
   "file_extension": ".py",
   "mimetype": "text/x-python",
   "name": "python",
   "nbconvert_exporter": "python",
   "pygments_lexer": "ipython3",
   "version": "3.9.7"
  }
 },
 "nbformat": 4,
 "nbformat_minor": 5
}
